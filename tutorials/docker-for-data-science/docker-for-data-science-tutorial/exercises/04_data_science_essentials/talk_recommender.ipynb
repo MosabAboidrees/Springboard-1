{
 "cells": [
  {
   "cell_type": "markdown",
   "metadata": {},
   "source": [
    "# Talk Recommender - Pycon 2018"
   ]
  },
  {
   "cell_type": "markdown",
   "metadata": {},
   "source": [
    "With 32 tutorials, 12 sponsor workshops, 16 talks at the education summit, and 95 talks at the main conference - Pycon has a lot to offer. Reading through all the talk descriptions and filtering out the ones that you should go to is a tedious process. But not anymore.\n",
    "\n",
    "## Introducing TalkRecommender\n",
    "Talk recommender is a recommendation system that recommends talks from this year's Pycon based on the ones that you went to last year.  This way you don't waste any time preparing a schedule and get to see the talks that matter the most to you! \n",
    "\n",
    "As shown in the demo, the users are asked to label previous year's talks into two categories - the one that they went to in person, and the ones they watched later online. Talk Recommender uses those labels to predict talks from this year that will be interesing to them. \n",
    "\n",
    "We will be using [`pandas`](https://pandas.pydata.org/) abd [`scikit-learn`](http://scikit-learn.org/) to build and the model.\n",
    "\n",
    "*Remember to click on Save and Checkpoint from the File menu to save changes you made to the notebook* "
   ]
  },
  {
   "cell_type": "markdown",
   "metadata": {},
   "source": [
    "### Exercise A: Load the data\n",
    "The data directory contains the snapshot of one such user's labeling - lets load that up and start with our analysis. "
   ]
  },
  {
   "cell_type": "code",
   "execution_count": 1,
   "metadata": {},
   "outputs": [
    {
     "name": "stdout",
     "output_type": "stream",
     "text": [
      "total 184\r\n",
      "-rw-r--r-- 1 root root 186903 Sep 10 14:09 talks.csv\r\n"
     ]
    }
   ],
   "source": [
    "!ls -lrt data"
   ]
  },
  {
   "cell_type": "code",
   "execution_count": 2,
   "metadata": {
    "scrolled": true
   },
   "outputs": [
    {
     "data": {
      "text/html": [
       "<div>\n",
       "<style scoped>\n",
       "    .dataframe tbody tr th:only-of-type {\n",
       "        vertical-align: middle;\n",
       "    }\n",
       "\n",
       "    .dataframe tbody tr th {\n",
       "        vertical-align: top;\n",
       "    }\n",
       "\n",
       "    .dataframe thead th {\n",
       "        text-align: right;\n",
       "    }\n",
       "</style>\n",
       "<table border=\"1\" class=\"dataframe\">\n",
       "  <thead>\n",
       "    <tr style=\"text-align: right;\">\n",
       "      <th></th>\n",
       "      <th>id</th>\n",
       "      <th>title</th>\n",
       "      <th>description</th>\n",
       "      <th>presenters</th>\n",
       "      <th>date_created</th>\n",
       "      <th>date_modified</th>\n",
       "      <th>location</th>\n",
       "      <th>talk_dt</th>\n",
       "      <th>year</th>\n",
       "      <th>label</th>\n",
       "    </tr>\n",
       "  </thead>\n",
       "  <tbody>\n",
       "    <tr>\n",
       "      <th>0</th>\n",
       "      <td>1</td>\n",
       "      <td>5 ways to deploy your Python web app in 2017</td>\n",
       "      <td>You’ve built a fine Python web application and...</td>\n",
       "      <td>Andrew T. Baker</td>\n",
       "      <td>2018-04-19 00:59:20.151875</td>\n",
       "      <td>2018-04-19 00:59:20.151875</td>\n",
       "      <td>Portland Ballroom 252–253</td>\n",
       "      <td>2017-05-08 15:15:00.000000</td>\n",
       "      <td>2017</td>\n",
       "      <td>0.0</td>\n",
       "    </tr>\n",
       "    <tr>\n",
       "      <th>1</th>\n",
       "      <td>2</td>\n",
       "      <td>A gentle introduction to deep learning with Te...</td>\n",
       "      <td>Deep learning's explosion of spectacular resul...</td>\n",
       "      <td>Michelle Fullwood</td>\n",
       "      <td>2018-04-19 00:59:20.158338</td>\n",
       "      <td>2018-04-19 00:59:20.158338</td>\n",
       "      <td>Oregon Ballroom 203–204</td>\n",
       "      <td>2017-05-08 16:15:00.000000</td>\n",
       "      <td>2017</td>\n",
       "      <td>0.0</td>\n",
       "    </tr>\n",
       "    <tr>\n",
       "      <th>2</th>\n",
       "      <td>3</td>\n",
       "      <td>aiosmtpd - A better asyncio based SMTP server</td>\n",
       "      <td>smtpd.py has been in the standard library for ...</td>\n",
       "      <td>Barry Warsaw</td>\n",
       "      <td>2018-04-19 00:59:20.161866</td>\n",
       "      <td>2018-04-19 00:59:20.161866</td>\n",
       "      <td>Oregon Ballroom 203–204</td>\n",
       "      <td>2017-05-08 14:30:00.000000</td>\n",
       "      <td>2017</td>\n",
       "      <td>1.0</td>\n",
       "    </tr>\n",
       "    <tr>\n",
       "      <th>3</th>\n",
       "      <td>4</td>\n",
       "      <td>Algorithmic Music Generation</td>\n",
       "      <td>Music is mainly an artistic act of inspired cr...</td>\n",
       "      <td>Padmaja V Bhagwat</td>\n",
       "      <td>2018-04-19 00:59:20.165526</td>\n",
       "      <td>2018-04-19 00:59:20.165526</td>\n",
       "      <td>Portland Ballroom 251 &amp; 258</td>\n",
       "      <td>2017-05-08 17:10:00.000000</td>\n",
       "      <td>2017</td>\n",
       "      <td>0.0</td>\n",
       "    </tr>\n",
       "    <tr>\n",
       "      <th>4</th>\n",
       "      <td>5</td>\n",
       "      <td>An Introduction to Reinforcement Learning</td>\n",
       "      <td>Reinforcement learning (RL) is a subfield of m...</td>\n",
       "      <td>Jessica Forde</td>\n",
       "      <td>2018-04-19 00:59:20.169075</td>\n",
       "      <td>2018-04-19 00:59:20.169075</td>\n",
       "      <td>Portland Ballroom 252–253</td>\n",
       "      <td>2017-05-08 13:40:00.000000</td>\n",
       "      <td>2017</td>\n",
       "      <td>0.0</td>\n",
       "    </tr>\n",
       "  </tbody>\n",
       "</table>\n",
       "</div>"
      ],
      "text/plain": [
       "   id                                              title  \\\n",
       "0   1       5 ways to deploy your Python web app in 2017   \n",
       "1   2  A gentle introduction to deep learning with Te...   \n",
       "2   3      aiosmtpd - A better asyncio based SMTP server   \n",
       "3   4                       Algorithmic Music Generation   \n",
       "4   5          An Introduction to Reinforcement Learning   \n",
       "\n",
       "                                         description         presenters  \\\n",
       "0  You’ve built a fine Python web application and...    Andrew T. Baker   \n",
       "1  Deep learning's explosion of spectacular resul...  Michelle Fullwood   \n",
       "2  smtpd.py has been in the standard library for ...       Barry Warsaw   \n",
       "3  Music is mainly an artistic act of inspired cr...  Padmaja V Bhagwat   \n",
       "4  Reinforcement learning (RL) is a subfield of m...      Jessica Forde   \n",
       "\n",
       "                 date_created               date_modified  \\\n",
       "0  2018-04-19 00:59:20.151875  2018-04-19 00:59:20.151875   \n",
       "1  2018-04-19 00:59:20.158338  2018-04-19 00:59:20.158338   \n",
       "2  2018-04-19 00:59:20.161866  2018-04-19 00:59:20.161866   \n",
       "3  2018-04-19 00:59:20.165526  2018-04-19 00:59:20.165526   \n",
       "4  2018-04-19 00:59:20.169075  2018-04-19 00:59:20.169075   \n",
       "\n",
       "                      location                     talk_dt  year  label  \n",
       "0    Portland Ballroom 252–253  2017-05-08 15:15:00.000000  2017    0.0  \n",
       "1      Oregon Ballroom 203–204  2017-05-08 16:15:00.000000  2017    0.0  \n",
       "2      Oregon Ballroom 203–204  2017-05-08 14:30:00.000000  2017    1.0  \n",
       "3  Portland Ballroom 251 & 258  2017-05-08 17:10:00.000000  2017    0.0  \n",
       "4    Portland Ballroom 252–253  2017-05-08 13:40:00.000000  2017    0.0  "
      ]
     },
     "execution_count": 2,
     "metadata": {},
     "output_type": "execute_result"
    }
   ],
   "source": [
    "import pandas as pd\n",
    "import numpy as np\n",
    "df=pd.read_csv('data/talks.csv')\n",
    "df.head()"
   ]
  },
  {
   "cell_type": "markdown",
   "metadata": {},
   "source": [
    "Here is a brief description of the interesting fields.\n",
    "\n",
    "variable | description  \n",
    "------|------|\n",
    "`title`|Title of the talk\n",
    "`description`|Description of the talk\n",
    "`year`|Is it a `2017` talk or `2018`  \n",
    "`label`|`1` indicates the user preferred seeing the talk in person,<br> `0` indicates they would schedule it for later.\n",
    "\n",
    "Note all 2018 talks are set to 1. However they are only placeholders, and are not used in training the model. We will  use only 2017 data for training.\n",
    "\n",
    "Lets start by selecting the 2017 talk descriptions that were labeled by the user for watching in person.\n",
    "\n",
    "```python\n",
    "df[(df.year==2017) & (df.label==1)]['description']\n",
    "```\n",
    "\n",
    "Print the description of the talks that the user preferred watching in person. How many such talks are there?"
   ]
  },
  {
   "cell_type": "code",
   "execution_count": 3,
   "metadata": {},
   "outputs": [
    {
     "name": "stdout",
     "output_type": "stream",
     "text": [
      "User preferred watching 38 talks\n"
     ]
    },
    {
     "data": {
      "text/plain": [
       "2     smtpd.py has been in the standard library for ...\n",
       "7     AWS is one of the best-known cloud vendors. Us...\n",
       "8     Decorators are a syntactically-pleasing way of...\n",
       "9     Designing a good command line tool is challeng...\n",
       "13    Do you have a stream of data that you would li...\n",
       "16    Are you running a Web application? Do you suff...\n",
       "18    Python 3.6 was released in December of 2016 an...\n",
       "19    Did you ever need to create an application who...\n",
       "20    One of the nicest things about Python communit...\n",
       "22       \"Four shalt thou not count, neither count t...\n",
       "24    A popular way of improving websites is to run ...\n",
       "25    Recently, networking vendors and Silicon Valle...\n",
       "34    We all know Python is a powerful and expressiv...\n",
       "35    Over the last several years, Python developers...\n",
       "37    The world of Haskell and functional programmin...\n",
       "40    Images tell stories, and we love Instagram fil...\n",
       "43    Methods are like functions, but different. How...\n",
       "50    Magic methods are a very powerful feature of P...\n",
       "52    Unit, functional, and integration tests are gr...\n",
       "53    When I first began working with the Python Pan...\n",
       "55    Various optimizations made Python 3.6 faster t...\n",
       "57    Exception handling in Python can sometimes fee...\n",
       "58    Assembling all the necessary setup for an appl...\n",
       "60    Bayesian statistics offers robust and flexible...\n",
       "62    Earth imaging satellites, just like our comput...\n",
       "63    Serverless is the latest phase in the evolutio...\n",
       "64    What is it like to interview at 1 technology c...\n",
       "66    Modern genome editing techniques such as CRISP...\n",
       "68    If you want people to use your code you should...\n",
       "69    __slots__ are versatile for certain kinds of u...\n",
       "70    Companies with an artificial-intelligence plan...\n",
       "71    Python is a decades-strong language with a lar...\n",
       "79    Everyone needs to debug code, and it can take ...\n",
       "80    MicroPython is the leanest, meanest full Pytho...\n",
       "81    The statistician John Tukey -- who designed th...\n",
       "83    The software licenses are the permissions over...\n",
       "92    Python's fantastic until it isn't.  This talk ...\n",
       "94    Regular expressions have a reputation as opaqu...\n",
       "Name: description, dtype: object"
      ]
     },
     "execution_count": 3,
     "metadata": {},
     "output_type": "execute_result"
    }
   ],
   "source": [
    "preferred = df[(df.year==2017) & (df.label==1)]['description']\n",
    "count = preferred.count()\n",
    "print(f'User preferred watching {count} talks')\n",
    "preferred"
   ]
  },
  {
   "cell_type": "markdown",
   "metadata": {},
   "source": [
    "### Exercise B: Feature Extraction\n",
    "In this step we build the feature set by tokenization, counting and normalization of the bi-grams from the text descriptions of the talk. You can find more information on text feature extraction [here](http://scikit-learn.org/stable/modules/feature_extraction.html#text-feature-extraction) and TfidfVectorizer [here](http://scikit-learn.org/stable/modules/generated/sklearn.feature_extraction.text.TfidfVectorizer.html)."
   ]
  },
  {
   "cell_type": "code",
   "execution_count": 4,
   "metadata": {},
   "outputs": [],
   "source": [
    "from sklearn.feature_extraction.text import TfidfVectorizer\n",
    "vectorizer = TfidfVectorizer(ngram_range=(1, 2), stop_words=\"english\")"
   ]
  },
  {
   "cell_type": "markdown",
   "metadata": {},
   "source": [
    "The 2017 talks will be used for training and the 2018 talks will we use for predicting. Set the values of `year_labeled` and `year_predict` to appropriate values."
   ]
  },
  {
   "cell_type": "code",
   "execution_count": 5,
   "metadata": {},
   "outputs": [],
   "source": [
    "year_labeled=2017\n",
    "year_predict=2018\n",
    "vectorized_text_labeled = vectorizer.fit_transform(df[df.year==year_labeled]['description'])\n",
    "vectorized_text_predict = vectorizer.transform(df[df.year==year_predict]['description'])"
   ]
  },
  {
   "cell_type": "markdown",
   "metadata": {},
   "source": [
    "### Exercise C: Split into Training and Testing Set"
   ]
  },
  {
   "cell_type": "markdown",
   "metadata": {},
   "source": [
    "Next we split our data into training set and testing set. This allows us to do cross validation and avoid overfitting. Use the `train_test_split` method from `sklearn.model_selection` to split the `vectorized_text_labeled` into training and testing set with the test size as one third of the size (0.3) of the labeled.\n",
    "\n",
    "[Here](http://scikit-learn.org/stable/modules/generated/sklearn.model_selection.train_test_split.html) is the documentation for the function."
   ]
  },
  {
   "cell_type": "code",
   "execution_count": 6,
   "metadata": {},
   "outputs": [],
   "source": [
    "from sklearn.model_selection import train_test_split\n",
    "labels = df[df.year == 2017]['label']\n",
    "test_size= 0.3\n",
    "X_train, X_test, y_train, y_test = train_test_split(vectorized_text_labeled, labels, test_size=test_size, random_state=1)"
   ]
  },
  {
   "cell_type": "markdown",
   "metadata": {},
   "source": [
    "### Exercise D: Train the model\n",
    "Finally we get to the stage for training the model. We are going to use a linear [support vector classifier](http://scikit-learn.org/stable/modules/generated/sklearn.svm.LinearSVC.html) and check its accuracy by using the `classification_report` function. Note that we have not done any parameter tuning yet, so your model might not give you the best results. \n",
    "\n",
    "\n",
    "[Here](http://scikit-learn.org/stable/auto_examples/model_selection/grid_search_text_feature_extraction.html) is some information for using [GridSearchCV](http://scikit-learn.org/stable/modules/generated/sklearn.model_selection.GridSearchCV.html#sklearn.model_selection.GridSearchCV) for doing exhaustive search over specified parameter values of an estimator. _However, this is purely for reference and not needed for this exercise._\n",
    "\n",
    "Print out the `report` to see how well your model has been trained!"
   ]
  },
  {
   "cell_type": "code",
   "execution_count": 7,
   "metadata": {},
   "outputs": [
    {
     "name": "stdout",
     "output_type": "stream",
     "text": [
      "             precision    recall  f1-score   support\n",
      "\n",
      "        0.0       0.71      1.00      0.83        20\n",
      "        1.0       1.00      0.11      0.20         9\n",
      "\n",
      "avg / total       0.80      0.72      0.64        29\n",
      "\n"
     ]
    }
   ],
   "source": [
    "import sklearn\n",
    "from sklearn.svm import LinearSVC\n",
    "from sklearn.metrics import classification_report\n",
    "classifier = LinearSVC()\n",
    "classifier.fit(X_train, y_train)\n",
    "y_pred = classifier.predict(X_test)\n",
    "report = sklearn.metrics.classification_report(y_test, y_pred)\n",
    "print(report)"
   ]
  },
  {
   "cell_type": "markdown",
   "metadata": {},
   "source": [
    "### Exercise E: Make Predictions\n",
    "Use the model to predict which 2018 talks the user should go to. \n",
    "\n",
    "Using the `predicted_talk_indexes` print out the talk id, description, presenters, title and location and talk date.\n",
    "How many talks should the user go to according to your model?"
   ]
  },
  {
   "cell_type": "code",
   "execution_count": 34,
   "metadata": {},
   "outputs": [
    {
     "name": "stdout",
     "output_type": "stream",
     "text": [
      "User should go to 20 talks.\n"
     ]
    },
    {
     "data": {
      "text/html": [
       "<div>\n",
       "<style scoped>\n",
       "    .dataframe tbody tr th:only-of-type {\n",
       "        vertical-align: middle;\n",
       "    }\n",
       "\n",
       "    .dataframe tbody tr th {\n",
       "        vertical-align: top;\n",
       "    }\n",
       "\n",
       "    .dataframe thead th {\n",
       "        text-align: right;\n",
       "    }\n",
       "</style>\n",
       "<table border=\"1\" class=\"dataframe\">\n",
       "  <thead>\n",
       "    <tr style=\"text-align: right;\">\n",
       "      <th></th>\n",
       "      <th>id</th>\n",
       "      <th>title</th>\n",
       "      <th>description</th>\n",
       "      <th>presenters</th>\n",
       "      <th>location</th>\n",
       "      <th>talk_dt</th>\n",
       "    </tr>\n",
       "  </thead>\n",
       "  <tbody>\n",
       "    <tr>\n",
       "      <th>102</th>\n",
       "      <td>103</td>\n",
       "      <td>Bayesian Non-parametric Models for Data Scienc...</td>\n",
       "      <td>Nowadays, there are many ways of building data...</td>\n",
       "      <td>Christopher Fonnesbeck</td>\n",
       "      <td>Global Center Ballroom AB</td>\n",
       "      <td>2018-03-29 13:40:00.000000</td>\n",
       "    </tr>\n",
       "    <tr>\n",
       "      <th>103</th>\n",
       "      <td>104</td>\n",
       "      <td>Behavior-Driven Python</td>\n",
       "      <td>Behavior-Driven Development (BDD) is gaining p...</td>\n",
       "      <td>Andrew Knight</td>\n",
       "      <td>Grand Ballroom A</td>\n",
       "      <td>2018-03-29 12:10:00.000000</td>\n",
       "    </tr>\n",
       "    <tr>\n",
       "      <th>105</th>\n",
       "      <td>106</td>\n",
       "      <td>Beyond Unit Tests: Taking Your Testing to the ...</td>\n",
       "      <td>You've used pytest and you've used mypy, but b...</td>\n",
       "      <td>Hillel Wayne</td>\n",
       "      <td>Room 26A/B/C</td>\n",
       "      <td>2018-03-29 12:10:00.000000</td>\n",
       "    </tr>\n",
       "    <tr>\n",
       "      <th>112</th>\n",
       "      <td>113</td>\n",
       "      <td>By the Numbers: Python Community Trends in 201...</td>\n",
       "      <td>Want to know about the latest trends in the Py...</td>\n",
       "      <td>Dmitry Filippov, Ewa Jodlowska</td>\n",
       "      <td>Room 26A/B/C</td>\n",
       "      <td>2018-03-29 13:55:00.000000</td>\n",
       "    </tr>\n",
       "    <tr>\n",
       "      <th>113</th>\n",
       "      <td>114</td>\n",
       "      <td>Clearer Code at Scale: Static Types at Zulip a...</td>\n",
       "      <td>Python now offers static types! Companies like...</td>\n",
       "      <td>Greg Price</td>\n",
       "      <td>Grand Ballroom B</td>\n",
       "      <td>2018-03-29 13:50:00.000000</td>\n",
       "    </tr>\n",
       "    <tr>\n",
       "      <th>126</th>\n",
       "      <td>126</td>\n",
       "      <td>Demystifying the Patch Function</td>\n",
       "      <td>One of the most challenging and important thin...</td>\n",
       "      <td>Lisa Roach</td>\n",
       "      <td>Grand Ballroom B</td>\n",
       "      <td>2018-03-29 12:10:00.000000</td>\n",
       "    </tr>\n",
       "    <tr>\n",
       "      <th>131</th>\n",
       "      <td>132</td>\n",
       "      <td>Elegant Solutions For Everyday Python Problems</td>\n",
       "      <td>Are you an intermediate python developer looki...</td>\n",
       "      <td>Nina Zakharenko</td>\n",
       "      <td>Room 26A/B/C</td>\n",
       "      <td>2018-03-29 17:10:00.000000</td>\n",
       "    </tr>\n",
       "    <tr>\n",
       "      <th>134</th>\n",
       "      <td>135</td>\n",
       "      <td>Fighting the Good Fight: Python 3 in your orga...</td>\n",
       "      <td>Today, services built on Python 3.6.3 are wide...</td>\n",
       "      <td>Jason Fried</td>\n",
       "      <td>Grand Ballroom B</td>\n",
       "      <td>2018-03-29 16:30:00.000000</td>\n",
       "    </tr>\n",
       "    <tr>\n",
       "      <th>138</th>\n",
       "      <td>139</td>\n",
       "      <td>How Netflix does failovers in 7 minutes flat</td>\n",
       "      <td>During peak hours, Netflix video streams make ...</td>\n",
       "      <td>Amjith Ramanujam</td>\n",
       "      <td>Global Center Ballroom AB</td>\n",
       "      <td>2018-03-29 11:30:00.000000</td>\n",
       "    </tr>\n",
       "    <tr>\n",
       "      <th>139</th>\n",
       "      <td>140</td>\n",
       "      <td>HOWTO Write a Function</td>\n",
       "      <td>A function is a small chunk of code that does ...</td>\n",
       "      <td>Jack Diederich</td>\n",
       "      <td>Room 26A/B/C</td>\n",
       "      <td>2018-03-29 12:10:00.000000</td>\n",
       "    </tr>\n",
       "    <tr>\n",
       "      <th>144</th>\n",
       "      <td>145</td>\n",
       "      <td>Inside the Cheeseshop: How Python Packaging Works</td>\n",
       "      <td>Questions and confusion about the Python packa...</td>\n",
       "      <td>Dustin Ingram</td>\n",
       "      <td>Room 26A/B/C</td>\n",
       "      <td>2018-03-29 11:30:00.000000</td>\n",
       "    </tr>\n",
       "    <tr>\n",
       "      <th>148</th>\n",
       "      <td>149</td>\n",
       "      <td>One weird trick to becoming a better software ...</td>\n",
       "      <td>Those of us who have worked in software develo...</td>\n",
       "      <td>Esther Nam</td>\n",
       "      <td>Global Center Ballroom AB</td>\n",
       "      <td>2018-03-29 12:10:00.000000</td>\n",
       "    </tr>\n",
       "    <tr>\n",
       "      <th>151</th>\n",
       "      <td>152</td>\n",
       "      <td>Practical Sphinx</td>\n",
       "      <td>Each member of your project team uses somethin...</td>\n",
       "      <td>Carol Willing</td>\n",
       "      <td>Grand Ballroom A</td>\n",
       "      <td>2018-03-29 11:30:00.000000</td>\n",
       "    </tr>\n",
       "    <tr>\n",
       "      <th>154</th>\n",
       "      <td>155</td>\n",
       "      <td>Python 3: ten years later</td>\n",
       "      <td>Looking back at Python evolutions over the las...</td>\n",
       "      <td>Victor Stinner</td>\n",
       "      <td>Grand Ballroom B</td>\n",
       "      <td>2018-03-29 15:15:00.000000</td>\n",
       "    </tr>\n",
       "    <tr>\n",
       "      <th>165</th>\n",
       "      <td>166</td>\n",
       "      <td>Solve Your Problem With Sloppy Python</td>\n",
       "      <td>Stop writing crappy shell scripts—write crappy...</td>\n",
       "      <td>Larry Hastings</td>\n",
       "      <td>Grand Ballroom C</td>\n",
       "      <td>2018-03-29 10:50:00.000000</td>\n",
       "    </tr>\n",
       "    <tr>\n",
       "      <th>171</th>\n",
       "      <td>172</td>\n",
       "      <td>The AST and Me</td>\n",
       "      <td>Get under the hood and learn about Python's be...</td>\n",
       "      <td>Emily Morehouse-Valcarcel</td>\n",
       "      <td>Grand Ballroom B</td>\n",
       "      <td>2018-03-29 15:15:00.000000</td>\n",
       "    </tr>\n",
       "    <tr>\n",
       "      <th>177</th>\n",
       "      <td>178</td>\n",
       "      <td>There and Back Again: Disable and re-enable ga...</td>\n",
       "      <td>Python's cyclic garbage collector wonderfully ...</td>\n",
       "      <td>Zekun Li</td>\n",
       "      <td>Grand Ballroom A</td>\n",
       "      <td>2018-03-29 13:10:00.000000</td>\n",
       "    </tr>\n",
       "    <tr>\n",
       "      <th>179</th>\n",
       "      <td>180</td>\n",
       "      <td>Trio: Async concurrency for mere mortals</td>\n",
       "      <td>Concurrent programs are super useful: think of...</td>\n",
       "      <td>Nathaniel J. Smith</td>\n",
       "      <td>Grand Ballroom C</td>\n",
       "      <td>2018-03-29 16:30:00.000000</td>\n",
       "    </tr>\n",
       "    <tr>\n",
       "      <th>180</th>\n",
       "      <td>181</td>\n",
       "      <td>Type-checked Python in the real world</td>\n",
       "      <td>You've heard about Python type annotations, bu...</td>\n",
       "      <td>Carl Meyer</td>\n",
       "      <td>Global Center Ballroom AB</td>\n",
       "      <td>2018-03-29 13:10:00.000000</td>\n",
       "    </tr>\n",
       "    <tr>\n",
       "      <th>185</th>\n",
       "      <td>186</td>\n",
       "      <td>Visual Testing with PyCharm and pytest</td>\n",
       "      <td>Know you should be doing testing but haven’t g...</td>\n",
       "      <td>Brian Okken, Paul Everitt</td>\n",
       "      <td>Grand Ballroom A</td>\n",
       "      <td>2018-03-29 17:10:00.000000</td>\n",
       "    </tr>\n",
       "  </tbody>\n",
       "</table>\n",
       "</div>"
      ],
      "text/plain": [
       "      id                                              title  \\\n",
       "102  103  Bayesian Non-parametric Models for Data Scienc...   \n",
       "103  104                             Behavior-Driven Python   \n",
       "105  106  Beyond Unit Tests: Taking Your Testing to the ...   \n",
       "112  113  By the Numbers: Python Community Trends in 201...   \n",
       "113  114  Clearer Code at Scale: Static Types at Zulip a...   \n",
       "126  126                    Demystifying the Patch Function   \n",
       "131  132     Elegant Solutions For Everyday Python Problems   \n",
       "134  135  Fighting the Good Fight: Python 3 in your orga...   \n",
       "138  139       How Netflix does failovers in 7 minutes flat   \n",
       "139  140                             HOWTO Write a Function   \n",
       "144  145  Inside the Cheeseshop: How Python Packaging Works   \n",
       "148  149  One weird trick to becoming a better software ...   \n",
       "151  152                                   Practical Sphinx   \n",
       "154  155                          Python 3: ten years later   \n",
       "165  166              Solve Your Problem With Sloppy Python   \n",
       "171  172                                     The AST and Me   \n",
       "177  178  There and Back Again: Disable and re-enable ga...   \n",
       "179  180           Trio: Async concurrency for mere mortals   \n",
       "180  181              Type-checked Python in the real world   \n",
       "185  186             Visual Testing with PyCharm and pytest   \n",
       "\n",
       "                                           description  \\\n",
       "102  Nowadays, there are many ways of building data...   \n",
       "103  Behavior-Driven Development (BDD) is gaining p...   \n",
       "105  You've used pytest and you've used mypy, but b...   \n",
       "112  Want to know about the latest trends in the Py...   \n",
       "113  Python now offers static types! Companies like...   \n",
       "126  One of the most challenging and important thin...   \n",
       "131  Are you an intermediate python developer looki...   \n",
       "134  Today, services built on Python 3.6.3 are wide...   \n",
       "138  During peak hours, Netflix video streams make ...   \n",
       "139  A function is a small chunk of code that does ...   \n",
       "144  Questions and confusion about the Python packa...   \n",
       "148  Those of us who have worked in software develo...   \n",
       "151  Each member of your project team uses somethin...   \n",
       "154  Looking back at Python evolutions over the las...   \n",
       "165  Stop writing crappy shell scripts—write crappy...   \n",
       "171  Get under the hood and learn about Python's be...   \n",
       "177  Python's cyclic garbage collector wonderfully ...   \n",
       "179  Concurrent programs are super useful: think of...   \n",
       "180  You've heard about Python type annotations, bu...   \n",
       "185  Know you should be doing testing but haven’t g...   \n",
       "\n",
       "                         presenters                   location  \\\n",
       "102          Christopher Fonnesbeck  Global Center Ballroom AB   \n",
       "103                   Andrew Knight           Grand Ballroom A   \n",
       "105                    Hillel Wayne               Room 26A/B/C   \n",
       "112  Dmitry Filippov, Ewa Jodlowska               Room 26A/B/C   \n",
       "113                      Greg Price           Grand Ballroom B   \n",
       "126                      Lisa Roach           Grand Ballroom B   \n",
       "131                 Nina Zakharenko               Room 26A/B/C   \n",
       "134                     Jason Fried           Grand Ballroom B   \n",
       "138                Amjith Ramanujam  Global Center Ballroom AB   \n",
       "139                  Jack Diederich               Room 26A/B/C   \n",
       "144                   Dustin Ingram               Room 26A/B/C   \n",
       "148                      Esther Nam  Global Center Ballroom AB   \n",
       "151                   Carol Willing           Grand Ballroom A   \n",
       "154                  Victor Stinner           Grand Ballroom B   \n",
       "165                  Larry Hastings           Grand Ballroom C   \n",
       "171       Emily Morehouse-Valcarcel           Grand Ballroom B   \n",
       "177                        Zekun Li           Grand Ballroom A   \n",
       "179              Nathaniel J. Smith           Grand Ballroom C   \n",
       "180                      Carl Meyer  Global Center Ballroom AB   \n",
       "185       Brian Okken, Paul Everitt           Grand Ballroom A   \n",
       "\n",
       "                        talk_dt  \n",
       "102  2018-03-29 13:40:00.000000  \n",
       "103  2018-03-29 12:10:00.000000  \n",
       "105  2018-03-29 12:10:00.000000  \n",
       "112  2018-03-29 13:55:00.000000  \n",
       "113  2018-03-29 13:50:00.000000  \n",
       "126  2018-03-29 12:10:00.000000  \n",
       "131  2018-03-29 17:10:00.000000  \n",
       "134  2018-03-29 16:30:00.000000  \n",
       "138  2018-03-29 11:30:00.000000  \n",
       "139  2018-03-29 12:10:00.000000  \n",
       "144  2018-03-29 11:30:00.000000  \n",
       "148  2018-03-29 12:10:00.000000  \n",
       "151  2018-03-29 11:30:00.000000  \n",
       "154  2018-03-29 15:15:00.000000  \n",
       "165  2018-03-29 10:50:00.000000  \n",
       "171  2018-03-29 15:15:00.000000  \n",
       "177  2018-03-29 13:10:00.000000  \n",
       "179  2018-03-29 16:30:00.000000  \n",
       "180  2018-03-29 13:10:00.000000  \n",
       "185  2018-03-29 17:10:00.000000  "
      ]
     },
     "execution_count": 34,
     "metadata": {},
     "output_type": "execute_result"
    }
   ],
   "source": [
    "predicted_talks_vector = classifier.predict(vectorized_text_predict)\n",
    "df_2018 = df[df.year==2018]\n",
    "\n",
    "# Offset the rows by 2017 talks\n",
    "predicted_talk_indexes = predicted_talks_vector.nonzero()[0] + len(df[df.year==2017])\n",
    "# your solution goes here\n",
    "# how many talks should the user go to?\n",
    "print(f'User should go to {len(predicted_talk_indexes)} talks.')\n",
    "\n",
    "df.loc[predicted_talk_indexes, ['id', 'title', 'description', 'presenters', 'location', 'talk_dt']]\n"
   ]
  },
  {
   "cell_type": "markdown",
   "metadata": {},
   "source": [
    "### Exercise F: Expose it as a service"
   ]
  },
  {
   "cell_type": "markdown",
   "metadata": {},
   "source": [
    "Now that you have pieces of the code ready, copy them together into the `model.py` file located in this folder, and rebuild your docker image. Copy the code from the above cells into the body of the `prediction` function.\n",
    "\n",
    "Lets rebuild the docker image and start an new container following the comments.\n",
    "\n",
    "In the following steps you will leave the jupyter notebook, and stop the container serving it. So save any changes you have done till this point.\n",
    "\n",
    "```\n",
    "docker stop <container_name>\n",
    "docker build -t recommender .\n",
    "docker run -p 8888:8888 -p 9000:9000 -v $(pwd):/app recommender\n",
    "```\n",
    "where `<container_name>` is the name of the container serving this jupyter notebook.\n",
    "\n",
    "The `api.py` file in this directory is a flask app that makes call to the `model.py` module and exposes the model built in the previous steps as a service. In order to start the flask server, open a new terminal and run the following command.\n",
    "\n",
    "```\n",
    "docker exec $(docker ps -ql) python api.py\n",
    "```\n",
    "Where `docker ps -ql` gets numeric id of the latest container id.\n",
    "\n",
    "Finally go to http://0.0.0.0:9000/predict to see the talks that were recommended for this user."
   ]
  },
  {
   "cell_type": "markdown",
   "metadata": {},
   "source": [
    "### Exercise G: Pickle the model\n",
    "\n",
    "Finally we do not have to retrain our model anytime we have to make predictions. In most real life data science applications, the training phase is a time consuming proecss. We would seaprately train and serialize the model which is then exposed through the api to make the predictions. The `predict_api` directory of the TalkVoter app shows an approach where we wrap the model and seaprate out only calls to the prediction api to use the trained model instead of reprocessing any time there is a call to the api."
   ]
  },
  {
   "cell_type": "code",
   "execution_count": 8,
   "metadata": {},
   "outputs": [],
   "source": [
    "from sklearn.externals import joblib\n",
    "with open('talk_recommender.pkl', 'wb') as f:\n",
    "    joblib.dump(classifier, f)"
   ]
  },
  {
   "cell_type": "markdown",
   "metadata": {},
   "source": [
    "This will create the pickle file in your directory."
   ]
  },
  {
   "cell_type": "code",
   "execution_count": 9,
   "metadata": {},
   "outputs": [
    {
     "name": "stdout",
     "output_type": "stream",
     "text": [
      "total 124\r\n",
      "-rw-r--r-- 1 root root   277 Sep 10 14:09 Dockerfile\r\n",
      "-rw-r--r-- 1 root root   400 Sep 10 14:09 README.md\r\n",
      "drwxr-xr-x 3 root root    96 Sep 10 15:12 __pycache__\r\n",
      "-rw-r--r-- 1 root root   298 Sep 10 14:09 api.py\r\n",
      "drwxr-xr-x 3 root root    96 Sep 10 14:09 data\r\n",
      "-rw-r--r-- 1 root root  1688 Sep 10 15:04 model.py\r\n",
      "-rw-r--r-- 1 root root   167 Sep 10 14:09 requirements.txt\r\n",
      "-rw-r--r-- 1 root root 35862 Sep 10 15:13 talk_recommender.ipynb\r\n",
      "-rw-r--r-- 1 root root 66755 Sep 10 15:26 talk_recommender.pkl\r\n"
     ]
    }
   ],
   "source": [
    "!ls -l"
   ]
  },
  {
   "cell_type": "markdown",
   "metadata": {},
   "source": [
    "Use the `joblib.load` function to read the `classifier` back from the `talk_recommender.pkl` file."
   ]
  },
  {
   "cell_type": "code",
   "execution_count": 13,
   "metadata": {},
   "outputs": [
    {
     "data": {
      "text/plain": [
       "LinearSVC(C=1.0, class_weight=None, dual=True, fit_intercept=True,\n",
       "     intercept_scaling=1, loss='squared_hinge', max_iter=1000,\n",
       "     multi_class='ovr', penalty='l2', random_state=None, tol=0.0001,\n",
       "     verbose=0)"
      ]
     },
     "execution_count": 13,
     "metadata": {},
     "output_type": "execute_result"
    }
   ],
   "source": [
    "pickledClassifier = joblib.load('./talk_recommender.pkl')\n",
    "pickledClassifier"
   ]
  }
 ],
 "metadata": {
  "kernelspec": {
   "display_name": "Python 3",
   "language": "python",
   "name": "python3"
  },
  "language_info": {
   "codemirror_mode": {
    "name": "ipython",
    "version": 3
   },
   "file_extension": ".py",
   "mimetype": "text/x-python",
   "name": "python",
   "nbconvert_exporter": "python",
   "pygments_lexer": "ipython3",
   "version": "3.6.9"
  }
 },
 "nbformat": 4,
 "nbformat_minor": 2
}
