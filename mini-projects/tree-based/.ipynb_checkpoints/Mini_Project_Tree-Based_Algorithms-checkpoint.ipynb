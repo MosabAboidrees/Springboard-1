{
 "cells": [
  {
   "cell_type": "markdown",
   "metadata": {},
   "source": [
    "# Mini Project: Tree-Based Algorithms"
   ]
  },
  {
   "cell_type": "markdown",
   "metadata": {},
   "source": [
    "## The \"German Credit\" Dataset"
   ]
  },
  {
   "cell_type": "markdown",
   "metadata": {},
   "source": [
    "### Dataset Details"
   ]
  },
  {
   "cell_type": "markdown",
   "metadata": {},
   "source": [
    "This dataset has two classes (these would be considered labels in Machine Learning terms) to describe the worthiness of a personal loan: \"Good\" or \"Bad\". There are predictors related to attributes, such as: checking account status, duration, credit history, purpose of the loan, amount of the loan, savings accounts or bonds, employment duration, installment rate in percentage of disposable income, personal information, other debtors/guarantors, residence duration, property, age, other installment plans, housing, number of existing credits, job information, number of people being liable to provide maintenance for, telephone, and foreign worker status.\n",
    "\n",
    "Many of these predictors are discrete and have been expanded into several 0/1 indicator variables (a.k.a. they have been one-hot-encoded).\n",
    "\n",
    "This dataset has been kindly provided by Professor Dr. Hans Hofmann of the University of Hamburg, and can also be found on the UCI Machine Learning Repository."
   ]
  },
  {
   "cell_type": "markdown",
   "metadata": {},
   "source": [
    "\n",
    "\n",
    "\n"
   ]
  },
  {
   "cell_type": "markdown",
   "metadata": {},
   "source": [
    "## Decision Trees"
   ]
  },
  {
   "cell_type": "markdown",
   "metadata": {},
   "source": [
    " As we have learned in the previous lectures, Decision Trees as a family of algorithms (irrespective to the particular implementation) are powerful algorithms that can produce models with a predictive accuracy higher than that produced by linear models, such as Linear or Logistic Regression. Primarily, this is due to the fact the DT's can model nonlinear relationships, and also have a number of tuning paramters, that allow for the practicioner to achieve the best possible model. An added bonus is the ability to visualize the trained Decision Tree model, which allows for some insight into how the model has produced the predictions that it has. One caveat here, to keep in mind, is that sometimes, due to the size of the dataset (both in the sense of the number of records, as well as the number of features), the visualization might prove to be very large and complex, increasing the difficulty of interpretation."
   ]
  },
  {
   "cell_type": "markdown",
   "metadata": {},
   "source": [
    "To give you a very good example of how Decision Trees can be visualized and interpreted, we would strongly recommend that, before continuing on with solving the problems in this Mini Project, you take the time to read this fanstastic, detailed and informative blog post: http://explained.ai/decision-tree-viz/index.html"
   ]
  },
  {
   "cell_type": "markdown",
   "metadata": {},
   "source": [
    "## Building Your First Decision Tree Model"
   ]
  },
  {
   "cell_type": "markdown",
   "metadata": {},
   "source": [
    "So, now it's time to jump straight into the heart of the matter. Your first task, is to build a Decision Tree model, using the aforementioned \"German Credit\" dataset, which contains 1,000 records, and 62 columns (one of them presents the labels, and the other 61 present the potential features for the model.)"
   ]
  },
  {
   "cell_type": "markdown",
   "metadata": {},
   "source": [
    "For this task, you will be using the scikit-learn library, which comes already pre-installed with the Anaconda Python distribution. In case you're not using that, you can easily install it using pip."
   ]
  },
  {
   "cell_type": "markdown",
   "metadata": {},
   "source": [
    "Before embarking on creating your first model, we would strongly encourage you to read the short tutorial for Decision Trees in scikit-learn (http://scikit-learn.org/stable/modules/tree.html), and then dive a bit deeper into the documentation of the algorithm itself (http://scikit-learn.org/stable/modules/generated/sklearn.tree.DecisionTreeClassifier.html). "
   ]
  },
  {
   "cell_type": "markdown",
   "metadata": {},
   "source": [
    "Also, since you want to be able to present the results of your model, we suggest you take a look at the tutorial for accuracy metrics for classification models (http://scikit-learn.org/stable/modules/model_evaluation.html#classification-report) as well as the more detailed documentation (http://scikit-learn.org/stable/modules/generated/sklearn.metrics.classification_report.html).\n",
    "\n",
    "Finally, an *amazing* resource that explains the various classification model accuracy metrics, as well as the relationships between them, can be found on Wikipedia: https://en.wikipedia.org/wiki/Confusion_matrix"
   ]
  },
  {
   "cell_type": "markdown",
   "metadata": {},
   "source": [
    "(Note: as you've already learned in the Logistic Regression mini project, a standard practice in Machine Learning for achieving the best possible result when training a model is to use hyperparameter tuning, through Grid Search and k-fold Cross Validation. We strongly encourage you to use it here as well, not just because it's standard practice, but also becuase it's not going to be computationally to intensive, due to the size of the dataset that you're working with. Our suggestion here is that you split the data into 70% training, and 30% testing. Then, do the hyperparameter tuning and Cross Validation on the training set, and afterwards to a final test on the testing set.)"
   ]
  },
  {
   "cell_type": "markdown",
   "metadata": {},
   "source": [
    "### Now we pass the torch onto you! You can start building your first Decision Tree model! :)"
   ]
  },
  {
   "cell_type": "code",
   "execution_count": 1,
   "metadata": {},
   "outputs": [],
   "source": [
    "import pandas as pd\n",
    "from sklearn.tree import DecisionTreeClassifier\n",
    "from sklearn.metrics import classification_report\n",
    "from sklearn.model_selection import train_test_split\n",
    "from sklearn.model_selection import GridSearchCV\n",
    "\n",
    "# special matplotlib argument for improved plots\n",
    "from matplotlib import rcParams\n",
    "import seaborn as sns\n",
    "\n",
    "sns.set_style(\"whitegrid\")\n",
    "sns.set_context(\"poster\")\n",
    "import matplotlib.pyplot as plt"
   ]
  },
  {
   "cell_type": "code",
   "execution_count": 2,
   "metadata": {},
   "outputs": [],
   "source": [
    "# load dataset\n",
    "german_credit = pd.read_csv('GermanCredit.csv')\n",
    "\n",
    "# store the dependent labels/variables (y) and the features/independent variables/covariates (X) separately\n",
    "y = german_credit['Class']\n",
    "X = german_credit.drop('Class', axis=1)\n",
    "\n",
    "# split the data into training and testing set\n",
    "X_train, X_test, y_train, y_test = train_test_split(X, y, test_size=0.3)"
   ]
  },
  {
   "cell_type": "markdown",
   "metadata": {},
   "source": [
    "First I'll use the default parameters for the DecisionTreeClassifier, then I'll perform some cross validation to tune the hyperparameters, in order to get the best model I can."
   ]
  },
  {
   "cell_type": "code",
   "execution_count": 3,
   "metadata": {},
   "outputs": [],
   "source": [
    "# fit the classifier with the training set\n",
    "clf = DecisionTreeClassifier()\n",
    "fit = clf.fit(X_train, y_train)\n",
    "\n",
    "# use the classifier to predict with the testing set\n",
    "y_predictions = clf.predict(X_test)"
   ]
  },
  {
   "cell_type": "code",
   "execution_count": 4,
   "metadata": {},
   "outputs": [
    {
     "name": "stdout",
     "output_type": "stream",
     "text": [
      "Confusion matrix:\n"
     ]
    },
    {
     "data": {
      "image/png": "[encoded data removed]",
      "text/plain": [
       "<Figure size 432x288 with 2 Axes>"
      ]
     },
     "metadata": {
      "needs_background": "light"
     },
     "output_type": "display_data"
    },
    {
     "name": "stdout",
     "output_type": "stream",
     "text": [
      "Classification report:\n",
      "              precision    recall  f1-score   support\n",
      "\n",
      "        Good       0.80      0.78      0.79       216\n",
      "         Bad       0.47      0.50      0.49        84\n",
      "\n",
      "    accuracy                           0.70       300\n",
      "   macro avg       0.64      0.64      0.64       300\n",
      "weighted avg       0.71      0.70      0.71       300\n",
      "\n",
      "Accuracy score:  0.7033333333333334\n"
     ]
    }
   ],
   "source": [
    "# plot a confusion matrix\n",
    "import matplotlib.pyplot as plt\n",
    "from sklearn import metrics\n",
    "print('Confusion matrix:') \n",
    "conf_mat = metrics.confusion_matrix(y_test, y_predictions, labels=y.unique())\n",
    "df_cm = pd.DataFrame(conf_mat)\n",
    "# plot confusion matrix\n",
    "ax = sns.heatmap(df_cm, annot=True,annot_kws={\"size\": 14}, fmt='g', xticklabels=y.unique(), yticklabels=y.unique())\n",
    "ax.set(ylabel='True labels', xlabel='Predicted labels')\n",
    "\n",
    "plt.show()\n",
    "\n",
    "# plot classification report\n",
    "print('Classification report:')\n",
    "print(metrics.classification_report(y_test, y_predictions, y.unique() ))\n",
    "\n",
    "print('Accuracy score: ', metrics.accuracy_score(y_test, y_predictions))"
   ]
  },
  {
   "cell_type": "markdown",
   "metadata": {},
   "source": [
    "### Hyperparameter tuning:\n",
    "I'm going to perform cross validation using Grid Search with the following parameters:\n",
    "\n",
    "-  criterion (gini / entropy)\n",
    "- splitter (best / random)\n",
    "- min_samples_split (between 2 and 100)\n",
    "- min_samples_leaf (between 2 and 100)\n",
    "\n",
    "This will take a long time due to the large number of possible combinations of results. It's also worth noting that there's an element of randomness so this might perform differently each time."
   ]
  },
  {
   "cell_type": "code",
   "execution_count": null,
   "metadata": {},
   "outputs": [
    {
     "name": "stderr",
     "output_type": "stream",
     "text": [
      "//anaconda3/lib/python3.7/site-packages/sklearn/model_selection/_split.py:1978: FutureWarning: The default value of cv will change from 3 to 5 in version 0.22. Specify it explicitly to silence this warning.\n",
      "  warnings.warn(CV_WARNING, FutureWarning)\n"
     ]
    }
   ],
   "source": [
    "params = { \n",
    "    'criterion': ['gini', 'entropy'], \n",
    "    'splitter': ['best', 'random'],\n",
    "    'min_samples_split': range(2,100), \n",
    "    'min_samples_leaf': range(2,100)\n",
    "}\n",
    "gridSearch = GridSearchCV(DecisionTreeClassifier(), param_grid=params)\n",
    "gridSearch.fit(X_train, y_train)\n",
    "\n",
    "best = gridSearch.best_estimator_\n",
    "print(\"Best values for parameters: \", gridSearch.best_params_)\n",
    "\n",
    "best.fit(X_train, y_train)\n",
    "best_predictions = best.predict(X_test)"
   ]
  },
  {
   "cell_type": "code",
   "execution_count": 70,
   "metadata": {},
   "outputs": [
    {
     "name": "stdout",
     "output_type": "stream",
     "text": [
      "Accuracy score 0.726666666667\n",
      "Confusion matrix:\n"
     ]
    },
    {
     "data": {
      "image/png": "[encoded data removed]",
      "text/plain": [
       "<Figure size 432x288 with 2 Axes>"
      ]
     },
     "metadata": {},
     "output_type": "display_data"
    },
    {
     "name": "stdout",
     "output_type": "stream",
     "text": [
      "Classification report:\n",
      "             precision    recall  f1-score   support\n",
      "\n",
      "       Good       0.76      0.88      0.82       208\n",
      "        Bad       0.58      0.38      0.46        92\n",
      "\n",
      "avg / total       0.71      0.73      0.71       300\n",
      "\n",
      "Accuracy score:  0.726666666667\n"
     ]
    }
   ],
   "source": [
    "print('Accuracy score', metrics.accuracy_score(best_predictions, y_test))\n",
    "print('Confusion matrix:') \n",
    "conf_mat = metrics.confusion_matrix(y_test, best_predictions, labels=y.unique())\n",
    "df_cm = pd.DataFrame(conf_mat)\n",
    "# plot confusion matrix\n",
    "ax = sns.heatmap(df_cm, annot=True,annot_kws={\"size\": 14}, fmt='g', xticklabels=y.unique(), yticklabels=y.unique())\n",
    "ax.set(ylabel='True labels', xlabel='Predicted labels')\n",
    "\n",
    "plt.show()\n",
    "\n",
    "# plot classification report\n",
    "print('Classification report:')\n",
    "print(metrics.classification_report(y_test, best_predictions, y.unique() ))\n",
    "\n",
    "print('Accuracy score: ', metrics.accuracy_score(y_test, best_predictions))"
   ]
  },
  {
   "cell_type": "markdown",
   "metadata": {},
   "source": [
    "### After you've built the best model you can, now it's time to visualize it!"
   ]
  },
  {
   "cell_type": "markdown",
   "metadata": {},
   "source": [
    "Rememeber that amazing blog post from a few paragraphs ago, that demonstrated how to visualize and interpret the results of your Decision Tree model. We've seen that this can perform very well, but let's see how it does on the \"German Credit\" dataset that we're working on, due to it being a bit larger than the one used by the blog authors."
   ]
  },
  {
   "cell_type": "markdown",
   "metadata": {},
   "source": [
    "First, we're going to need to install their package. If you're using Anaconda, this can be done easily by running:"
   ]
  },
  {
   "cell_type": "code",
   "execution_count": 77,
   "metadata": {
    "scrolled": true
   },
   "outputs": [
    {
     "name": "stdout",
     "output_type": "stream",
     "text": [
      "Requirement already satisfied: dtreeviz in /home/ubuntu/.local/lib/python3.6/site-packages (0.8.1)\n",
      "Requirement already satisfied: scikit-learn in /usr/local/anaconda/lib/python3.6/site-packages (from dtreeviz) (0.19.1)\n",
      "Requirement already satisfied: matplotlib in /usr/local/anaconda/lib/python3.6/site-packages (from dtreeviz) (2.2.2)\n",
      "Requirement already satisfied: pandas in /usr/local/anaconda/lib/python3.6/site-packages (from dtreeviz) (0.20.3)\n",
      "Requirement already satisfied: numpy in /usr/local/anaconda/lib/python3.6/site-packages (from dtreeviz) (1.13.3)\n",
      "Requirement already satisfied: graphviz>=0.9 in /home/ubuntu/.local/lib/python3.6/site-packages (from dtreeviz) (0.13.2)\n",
      "Requirement already satisfied: colour in /home/ubuntu/.local/lib/python3.6/site-packages (from dtreeviz) (0.1.5)\n",
      "Requirement already satisfied: cycler>=0.10 in /usr/local/anaconda/lib/python3.6/site-packages (from matplotlib->dtreeviz) (0.10.0)\n",
      "Requirement already satisfied: six>=1.10 in /usr/local/anaconda/lib/python3.6/site-packages (from matplotlib->dtreeviz) (1.11.0)\n",
      "Requirement already satisfied: pytz in /usr/local/anaconda/lib/python3.6/site-packages (from matplotlib->dtreeviz) (2018.4)\n",
      "Requirement already satisfied: pyparsing!=2.0.4,!=2.1.2,!=2.1.6,>=2.0.1 in /usr/local/anaconda/lib/python3.6/site-packages (from matplotlib->dtreeviz) (2.2.0)\n",
      "Requirement already satisfied: kiwisolver>=1.0.1 in /usr/local/anaconda/lib/python3.6/site-packages (from matplotlib->dtreeviz) (1.0.1)\n",
      "Requirement already satisfied: python-dateutil>=2.1 in /usr/local/anaconda/lib/python3.6/site-packages (from matplotlib->dtreeviz) (2.7.3)\n",
      "Requirement already satisfied: setuptools in /usr/local/anaconda/lib/python3.6/site-packages (from kiwisolver>=1.0.1->matplotlib->dtreeviz) (39.2.0)\n",
      "\u001b[31mpyspark 2.4.0 requires py4j==0.10.7, which is not installed.\u001b[0m\n",
      "\u001b[31mmxnet-cu80 1.2.0 has requirement graphviz<0.9.0,>=0.8.1, but you'll have graphviz 0.13.2 which is incompatible.\u001b[0m\n",
      "\u001b[33mYou are using pip version 10.0.1, however version 19.3.1 is available.\n",
      "You should consider upgrading via the 'pip install --upgrade pip' command.\u001b[0m\n"
     ]
    }
   ],
   "source": [
    "! pip install dtreeviz --user"
   ]
  },
  {
   "cell_type": "markdown",
   "metadata": {},
   "source": [
    "If for any reason this way of installing doesn't work for you straight out of the box, please refer to the more detailed documentation here: https://github.com/parrt/dtreeviz"
   ]
  },
  {
   "cell_type": "markdown",
   "metadata": {},
   "source": [
    "Now you're ready to visualize your Decision Tree model! Please feel free to use the blog post for guidance and inspiration!"
   ]
  },
  {
   "cell_type": "code",
   "execution_count": 80,
   "metadata": {},
   "outputs": [
    {
     "name": "stdout",
     "output_type": "stream",
     "text": [
      "Package                            Version          \r\n",
      "---------------------------------- -----------------\r\n",
      "absl-py                            0.2.2            \r\n",
      "alabaster                          0.7.10           \r\n",
      "anaconda-client                    1.6.3            \r\n",
      "anaconda-navigator                 1.6.4            \r\n",
      "anaconda-project                   0.6.0            \r\n",
      "appdirs                            1.4.3            \r\n",
      "asn1crypto                         0.22.0           \r\n",
      "astor                              0.6.2            \r\n",
      "astroid                            1.5.3            \r\n",
      "astropy                            2.0.1            \r\n",
      "Babel                              2.5.0            \r\n",
      "backports.shutil-get-terminal-size 1.0.0            \r\n",
      "bcrypt                             3.1.4            \r\n",
      "beautifulsoup4                     4.6.0            \r\n",
      "bitarray                           0.8.1            \r\n",
      "bkcharts                           0.2              \r\n",
      "blaze                              0.10.1           \r\n",
      "bleach                             1.5.0            \r\n",
      "bokeh                              0.12.7           \r\n",
      "boto                               2.48.0           \r\n",
      "boto3                              1.7.26           \r\n",
      "botocore                           1.10.26          \r\n",
      "Bottleneck                         1.2.1            \r\n",
      "brewer2mpl                         1.4.1            \r\n",
      "bson                               0.5.6            \r\n",
      "bz2file                            0.98             \r\n",
      "cairocffi                          0.8.0            \r\n",
      "certifi                            2017.11.5        \r\n",
      "cffi                               1.10.0           \r\n",
      "cftime                             1.0.0            \r\n",
      "chardet                            3.0.4            \r\n",
      "click                              6.7              \r\n",
      "cloudpickle                        0.4.0            \r\n",
      "clyent                             1.2.2            \r\n",
      "colour                             0.1.5            \r\n",
      "conda                              4.5.4            \r\n",
      "configobj                          5.0.6            \r\n",
      "contextlib2                        0.5.5            \r\n",
      "Corpora                            1.0              \r\n",
      "cryptography                       1.8.1            \r\n",
      "cx-Oracle                          6.3.1            \r\n",
      "cycler                             0.10.0           \r\n",
      "cymem                              1.31.2           \r\n",
      "Cython                             0.26             \r\n",
      "cytoolz                            0.8.2            \r\n",
      "daal                               2018.0.0.20170814\r\n",
      "dash                               0.21.1           \r\n",
      "dash-core-components               0.22.1           \r\n",
      "dash-html-components               0.10.1           \r\n",
      "dash-renderer                      0.12.1           \r\n",
      "dash-table-experiments             0.6.0            \r\n",
      "dask                               0.15.2           \r\n",
      "datashape                          0.5.4            \r\n",
      "decorator                          4.1.2            \r\n",
      "dill                               0.2.7.1          \r\n",
      "distributed                        1.18.1           \r\n",
      "docutils                           0.14             \r\n",
      "dtreeviz                           0.8.1            \r\n",
      "en-core-web-sm                     2.0.0            \r\n",
      "entrypoints                        0.2.3            \r\n",
      "enum34                             1.1.6            \r\n",
      "et-xmlfile                         1.0.1            \r\n",
      "fastcache                          1.0.2            \r\n",
      "Flask                              0.12             \r\n",
      "Flask-Compress                     1.4.0            \r\n",
      "Flask-Cors                         3.0.3            \r\n",
      "future                             0.16.0           \r\n",
      "gast                               0.2.0            \r\n",
      "gensim                             3.4.0            \r\n",
      "gevent                             1.2.2            \r\n",
      "ggplot                             0.11.5           \r\n",
      "graphviz                           0.13.2           \r\n",
      "greenlet                           0.4.12           \r\n",
      "grpcio                             1.12.0           \r\n",
      "gunicorn                           19.8.1           \r\n",
      "h5py                               2.7.0            \r\n",
      "HeapDict                           1.0.0            \r\n",
      "html5lib                           0.9999999        \r\n",
      "icc-rt                             16.0.3           \r\n",
      "idna                               2.6              \r\n",
      "imagesize                          0.7.1            \r\n",
      "impi                               2018.0.0         \r\n",
      "intel-numpy                        1.13.3.10        \r\n",
      "intel-openmp                       2018.0.0         \r\n",
      "intel-scipy                        1.0.0.0          \r\n",
      "ipp                                2018.0.0         \r\n",
      "ipykernel                          4.6.1            \r\n",
      "ipython                            6.1.0            \r\n",
      "ipython-genutils                   0.2.0            \r\n",
      "ipywidgets                         6.0.0            \r\n",
      "isort                              4.2.15           \r\n",
      "itsdangerous                       0.24             \r\n",
      "jdcal                              1.3              \r\n",
      "jedi                               0.10.2           \r\n",
      "Jinja2                             2.10             \r\n",
      "jmespath                           0.9.3            \r\n",
      "joblib                             0.11             \r\n",
      "jsonify                            0.5              \r\n",
      "jsonschema                         2.6.0            \r\n",
      "jupyter                            1.0.0            \r\n",
      "jupyter-client                     5.1.0            \r\n",
      "jupyter-console                    5.2.0            \r\n",
      "jupyter-core                       4.3.0            \r\n",
      "jupyter-tensorboard                0.1.6            \r\n",
      "jupyterlab                         0.31.12          \r\n",
      "jupyterlab-launcher                0.10.5           \r\n",
      "Keras                              2.1.6            \r\n",
      "kiwisolver                         1.0.1            \r\n",
      "lazy-object-proxy                  1.3.1            \r\n",
      "llvmlite                           0.20.0           \r\n",
      "locket                             0.2.0            \r\n",
      "lxml                               3.8.0            \r\n",
      "Markdown                           2.6.11           \r\n",
      "MarkupSafe                         1.0              \r\n",
      "matplotlib                         2.2.2            \r\n",
      "memory-profiler                    0.52.0           \r\n",
      "mistune                            0.7.4            \r\n",
      "mkl                                2018.0.0         \r\n",
      "mkl-fft                            1.0.0.17         \r\n",
      "mkl-random                         1.0.1            \r\n",
      "mpltools                           0.2.0            \r\n",
      "mpmath                             0.19             \r\n",
      "msgpack-numpy                      0.4.1            \r\n",
      "msgpack-python                     0.4.8            \r\n",
      "multipledispatch                   0.4.9            \r\n",
      "murmurhash                         0.28.0           \r\n",
      "mxnet-cu80                         1.2.0            \r\n",
      "navigator-updater                  0.1.0            \r\n",
      "nbconvert                          5.2.1            \r\n",
      "nbformat                           4.4.0            \r\n",
      "netCDF4                            1.4.0            \r\n",
      "networkx                           1.11             \r\n",
      "nltk                               3.3              \r\n",
      "nose                               1.3.7            \r\n",
      "notebook                           5.0.0            \r\n",
      "numba                              0.35.0           \r\n",
      "numexpr                            2.6.5            \r\n",
      "numpy                              1.13.3           \r\n",
      "numpydoc                           0.7.0            \r\n",
      "odo                                0.5.1            \r\n",
      "olefile                            0.44             \r\n",
      "openpyxl                           2.4.8            \r\n",
      "packaging                          16.8             \r\n",
      "pandas                             0.20.3           \r\n",
      "pandas-datareader                  0.6.0            \r\n",
      "pandas-profiling                   1.4.1            \r\n",
      "pandoc                             1.0.2            \r\n",
      "pandocfilters                      1.4.2            \r\n",
      "paramiko                           2.4.1            \r\n",
      "partd                              0.3.8            \r\n",
      "pathlib                            1.0.1            \r\n",
      "pathlib2                           2.3.0            \r\n",
      "patsy                              0.4.1            \r\n",
      "pep8                               1.7.0            \r\n",
      "pexpect                            4.2.1            \r\n",
      "pickleshare                        0.7.4            \r\n",
      "Pillow                             4.2.1            \r\n",
      "pip                                10.0.1           \r\n",
      "plac                               0.9.6            \r\n",
      "plotly                             2.6.0            \r\n",
      "ply                                3.10             \r\n",
      "preshed                            1.0.0            \r\n",
      "prompt-toolkit                     1.0.15           \r\n",
      "protobuf                           3.5.2.post1      \r\n",
      "psutil                             5.2.2            \r\n",
      "ptyprocess                         0.5.2            \r\n",
      "py                                 1.4.34           \r\n",
      "pyarrow                            0.7.1            \r\n",
      "pyasn1                             0.4.2            \r\n",
      "pycodestyle                        2.3.1            \r\n",
      "pycosat                            0.6.3            \r\n",
      "pycparser                          2.18             \r\n",
      "pycrypto                           2.6.1            \r\n",
      "pycurl                             7.43.0           \r\n",
      "pyflakes                           1.6.0            \r\n",
      "Pygments                           2.2.0            \r\n",
      "pylint                             1.7.2            \r\n",
      "pymongo                            3.6.1            \r\n",
      "PyNaCl                             1.2.1            \r\n",
      "pyodbc                             4.0.17           \r\n",
      "pyOpenSSL                          17.0.0           \r\n",
      "pypandoc                           1.4              \r\n",
      "pyparsing                          2.2.0            \r\n",
      "pyspark                            2.4.0            \r\n",
      "pytest                             3.2.1            \r\n",
      "python-dateutil                    2.7.3            \r\n",
      "python-domino                      0.3.3            \r\n",
      "pytz                               2018.4           \r\n",
      "PyWavelets                         0.5.2            \r\n",
      "PyYAML                             3.12             \r\n",
      "pyzmq                              16.0.2           \r\n",
      "QtAwesome                          0.4.4            \r\n",
      "qtconsole                          4.3.1            \r\n",
      "QtPy                               1.3.1            \r\n",
      "quilt                              2.9.4            \r\n",
      "regex                              2017.4.5         \r\n",
      "requests                           2.18.4           \r\n",
      "requests-file                      1.4.3            \r\n",
      "requests-ftp                       0.3.1            \r\n",
      "rope-py3k                          0.9.4.post1      \r\n",
      "s3transfer                         0.1.13           \r\n",
      "scikit-image                       0.13.0           \r\n",
      "scikit-learn                       0.19.1           \r\n",
      "scipy                              1.1.0            \r\n",
      "seaborn                            0.8              \r\n",
      "setuptools                         39.2.0           \r\n",
      "simplegeneric                      0.8.1            \r\n",
      "simplejson                         3.15.0           \r\n",
      "singledispatch                     3.4.0.3          \r\n",
      "six                                1.11.0           \r\n",
      "smart-open                         1.5.7            \r\n",
      "snowballstemmer                    1.2.1            \r\n",
      "sortedcollections                  0.5.3            \r\n",
      "sortedcontainers                   1.5.7            \r\n",
      "spacy                              2.0.11           \r\n",
      "Sphinx                             1.6.3            \r\n",
      "sphinxcontrib-websupport           1.0.1            \r\n",
      "spyder                             3.2.3            \r\n",
      "SQLAlchemy                         1.1.13           \r\n",
      "statsmodels                        0.8.0            \r\n",
      "sympy                              1.1.1            \r\n",
      "tables                             3.4.2            \r\n",
      "tblib                              1.3.2            \r\n",
      "tensorboard                        1.8.0            \r\n",
      "tensorflow                         1.8.0            \r\n",
      "tensorflow-gpu                     1.4.0rc1         \r\n",
      "tensorflow-tensorboard             0.4.0            \r\n",
      "termcolor                          1.1.0            \r\n",
      "terminado                          0.6              \r\n",
      "testpath                           0.3              \r\n",
      "thinc                              6.10.2           \r\n",
      "toolz                              0.8.2            \r\n",
      "torch                              0.4.0            \r\n",
      "torchvision                        0.2.1            \r\n",
      "tornado                            4.5.2            \r\n",
      "tqdm                               4.23.4           \r\n",
      "traitlets                          4.3.2            \r\n",
      "ujson                              1.35             \r\n",
      "unicodecsv                         0.14.1           \r\n",
      "Unidecode                          1.0.22           \r\n",
      "urllib3                            1.22             \r\n",
      "uWSGI                              2.0.14           \r\n",
      "wcwidth                            0.1.7            \r\n",
      "websocket                          0.2.1            \r\n",
      "Werkzeug                           0.14.1           \r\n",
      "wheel                              0.29.0           \r\n",
      "widgetsnbextension                 3.0.2            \r\n",
      "wrapt                              1.10.11          \r\n",
      "xarray                             0.10.4           \r\n",
      "xgboost                            0.71             \r\n",
      "xlrd                               1.1.0            \r\n",
      "XlsxWriter                         0.9.8            \r\n",
      "xlwt                               1.3.0            \r\n",
      "zict                               0.1.2            \r\n"
     ]
    },
    {
     "name": "stdout",
     "output_type": "stream",
     "text": [
      "\u001b[33mYou are using pip version 10.0.1, however version 19.3.1 is available.\r\n",
      "You should consider upgrading via the 'pip install --upgrade pip' command.\u001b[0m\r\n"
     ]
    }
   ],
   "source": [
    "# Your code here! :)\n",
    "! pip list"
   ]
  },
  {
   "cell_type": "markdown",
   "metadata": {},
   "source": [
    "## Random Forests"
   ]
  },
  {
   "cell_type": "markdown",
   "metadata": {},
   "source": [
    "As discussed in the lecture videos, Decision Tree algorithms also have certain undesireable properties. Mainly the have low bias, which is good, but tend to have high variance - which is *not* so good (more about this problem here: https://en.wikipedia.org/wiki/Bias%E2%80%93variance_tradeoff)."
   ]
  },
  {
   "cell_type": "markdown",
   "metadata": {},
   "source": [
    "Noticing these problems, the late Professor Leo Breiman, in 2001, developed the Random Forests algorithm, which mitigates these problems, while at the same time providing even higher predictive accuracy than the majority of Decision Tree algorithm implementations. While the curriculum contains two excellent lectures on Random Forests, if you're interested, you can dive into the original paper here: https://link.springer.com/content/pdf/10.1023%2FA%3A1010933404324.pdf."
   ]
  },
  {
   "cell_type": "markdown",
   "metadata": {},
   "source": [
    "In the next part of this assignment, your are going to use the same \"German Credit\" dataset to train, tune, and measure the performance of a Random Forests model. You will also see certain functionalities that this model, even though it's a bit of a \"black box\", provides for some degree of interpretability."
   ]
  },
  {
   "cell_type": "markdown",
   "metadata": {},
   "source": [
    "First, let's build a Random Forests model, using the same best practices that you've used for your Decision Trees model. You can reuse the things you've already imported there, so no need to do any re-imports, new train/test splits, or loading up the data again."
   ]
  },
  {
   "cell_type": "code",
   "execution_count": null,
   "metadata": {
    "collapsed": true
   },
   "outputs": [],
   "source": [
    "from sklearn.ensemble import RandomForestClassifier"
   ]
  },
  {
   "cell_type": "code",
   "execution_count": 14,
   "metadata": {
    "collapsed": true
   },
   "outputs": [],
   "source": [
    "# Your code here! :)"
   ]
  },
  {
   "cell_type": "markdown",
   "metadata": {},
   "source": [
    "As mentioned, there are certain ways to \"peek\" into a model created by the Random Forests algorithm. The first, and most popular one, is the Feature Importance calculation functionality. This allows the ML practitioner to see an ordering of the importance of the features that have contributed the most to the predictive accuracy of the model. \n",
    "\n",
    "You can see how to use this in the scikit-learn documentation (http://scikit-learn.org/stable/modules/generated/sklearn.ensemble.RandomForestClassifier.html#sklearn.ensemble.RandomForestClassifier.feature_importances_). Now, if you tried this, you would just get an ordered table of not directly interpretable numeric values. Thus, it's much more useful to show the feature importance in a visual way. You can see an example of how that's done here: http://scikit-learn.org/stable/auto_examples/ensemble/plot_forest_importances.html#sphx-glr-auto-examples-ensemble-plot-forest-importances-py\n",
    "\n",
    "Now you try! Let's visualize the importance of features from your Random Forests model!"
   ]
  },
  {
   "cell_type": "code",
   "execution_count": null,
   "metadata": {
    "collapsed": true
   },
   "outputs": [],
   "source": [
    "# Your code here"
   ]
  },
  {
   "cell_type": "markdown",
   "metadata": {},
   "source": [
    "A final method for gaining some insight into the inner working of your Random Forests models is a so-called Partial Dependence Plot. The Partial Dependence Plot (PDP or PD plot) shows the marginal effect of a feature on the predicted outcome of a previously fit model. The prediction function is fixed at a few values of the chosen features and averaged over the other features. A partial dependence plot can show if the relationship between the target and a feature is linear, monotonic or more complex. \n",
    "\n",
    "In scikit-learn, PDPs are implemented and available for certain algorithms, but at this point (version 0.20.0) they are not yet implemented for Random Forests. Thankfully, there is an add-on package called **PDPbox** (https://pdpbox.readthedocs.io/en/latest/) which adds this functionality to Random Forests. The package is easy to install through pip."
   ]
  },
  {
   "cell_type": "code",
   "execution_count": null,
   "metadata": {
    "collapsed": true
   },
   "outputs": [],
   "source": [
    "! pip install pdpbox"
   ]
  },
  {
   "cell_type": "markdown",
   "metadata": {},
   "source": [
    "While we encourage you to read the documentation for the package (and reading package documentation in general is a good habit to develop), the authors of the package have also written an excellent blog post on how to use it, showing examples on different algorithms from scikit-learn (the Random Forests example is towards the end of the blog post): https://briangriner.github.io/Partial_Dependence_Plots_presentation-BrianGriner-PrincetonPublicLibrary-4.14.18-updated-4.22.18.html"
   ]
  },
  {
   "cell_type": "markdown",
   "metadata": {},
   "source": [
    "So, armed with this new knowledge, feel free to pick a few features, and make a couple of Partial Dependence Plots of your own!"
   ]
  },
  {
   "cell_type": "code",
   "execution_count": null,
   "metadata": {
    "collapsed": true
   },
   "outputs": [],
   "source": [
    "# Your code here!"
   ]
  },
  {
   "cell_type": "markdown",
   "metadata": {},
   "source": [
    "## (Optional) Advanced Boosting-Based Algorithms"
   ]
  },
  {
   "cell_type": "markdown",
   "metadata": {},
   "source": [
    "As explained in the video lectures, the next generation of algorithms after Random Forests (that use Bagging, a.k.a. Bootstrap Aggregation) were developed using Boosting, and the first one of these were Gradient Boosted Machines, which are implemented in scikit-learn (http://scikit-learn.org/stable/modules/ensemble.html#gradient-tree-boosting)."
   ]
  },
  {
   "cell_type": "markdown",
   "metadata": {},
   "source": [
    "Still, in recent years, a number of variations on GBMs have been developed by different research amd industry groups, all of them bringing improvements, both in speed, accuracy and functionality to the original Gradient Boosting algorithms.\n",
    "\n",
    "In no order of preference, these are:\n",
    "1. **XGBoost**: https://xgboost.readthedocs.io/en/latest/\n",
    "2. **CatBoost**: https://tech.yandex.com/catboost/\n",
    "3. **LightGBM**: https://lightgbm.readthedocs.io/en/latest/"
   ]
  },
  {
   "cell_type": "markdown",
   "metadata": {},
   "source": [
    "If you're using the Anaconda distribution, these are all very easy to install:"
   ]
  },
  {
   "cell_type": "code",
   "execution_count": null,
   "metadata": {
    "collapsed": true
   },
   "outputs": [],
   "source": [
    "! conda install -c anaconda py-xgboost"
   ]
  },
  {
   "cell_type": "code",
   "execution_count": null,
   "metadata": {
    "collapsed": true
   },
   "outputs": [],
   "source": [
    "! conda install -c conda-forge catboost"
   ]
  },
  {
   "cell_type": "code",
   "execution_count": null,
   "metadata": {
    "collapsed": true
   },
   "outputs": [],
   "source": [
    "! conda install -c conda-forge lightgbm"
   ]
  },
  {
   "cell_type": "markdown",
   "metadata": {},
   "source": [
    "Your task in this optional section of the mini project is to read the documentation of these three libraries, and apply all of them to the \"German Credit\" dataset, just like you did in the case of Decision Trees and Random Forests."
   ]
  },
  {
   "cell_type": "markdown",
   "metadata": {},
   "source": [
    "The final deliverable of this section should be a table (can be a pandas DataFrame) which shows the accuracy of all the five algorthms taught in this mini project in one place."
   ]
  },
  {
   "cell_type": "markdown",
   "metadata": {},
   "source": [
    "Happy modeling! :)"
   ]
  },
  {
   "cell_type": "code",
   "execution_count": null,
   "metadata": {
    "collapsed": true
   },
   "outputs": [],
   "source": []
  }
 ],
 "metadata": {
  "kernelspec": {
   "display_name": ".venv",
   "language": "python",
   "name": ".venv"
  },
  "language_info": {
   "codemirror_mode": {
    "name": "ipython",
    "version": 3
   },
   "file_extension": ".py",
   "mimetype": "text/x-python",
   "name": "python",
   "nbconvert_exporter": "python",
   "pygments_lexer": "ipython3",
   "version": "3.7.3"
  }
 },
 "nbformat": 4,
 "nbformat_minor": 2
}
